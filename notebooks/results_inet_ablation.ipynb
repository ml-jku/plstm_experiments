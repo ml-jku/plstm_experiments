{
 "cells": [
  {
   "cell_type": "code",
   "execution_count": 4,
   "id": "fdc2770f",
   "metadata": {},
   "outputs": [],
   "source": [
    "import wandb\n",
    "import pandas as pd\n",
    "import numpy as np\n",
    "\n",
    "models = [\"inet1k_(spl|plstm|ViT-T).*abl\"]\n",
    "results = {}\n",
    "# metric_key = \"test_ext/acc1\"\n",
    "# full_curve = False\n",
    "metric_key = \"test/acc1\"\n",
    "\n",
    "entity = \"poeppel\"\n",
    "project = \"plstm\"\n",
    "\n",
    "api = wandb.Api()\n",
    "\n",
    "# Construct filters: name regex and specific learning rate\n",
    "filters = {\"display_name\": {\"$regex\": models}}\n",
    "    \n",
    "# Fetch matching runs\n",
    "runs = api.runs(f\"{entity}/{project}\", filters=filters)\n",
    "\n",
    "res = []\n",
    "for run in runs:\n",
    "    # Replace 'test_accuracy' with your actual test metric key\n",
    "    test_metric = run.summary.get(metric_key)\n",
    "    if test_metric is not None:\n",
    "        res.append({\n",
    "            \"name\": run.name,\n",
    "            metric_key: test_metric})"
   ]
  },
  {
   "cell_type": "code",
   "execution_count": 5,
   "id": "d2c0517d",
   "metadata": {},
   "outputs": [
    {
     "data": {
      "text/plain": [
       "'ape_spl_plstmDonly_s43lr0.0001_1747238136.096'"
      ]
     },
     "execution_count": 5,
     "metadata": {},
     "output_type": "execute_result"
    }
   ],
   "source": [
    "run.name"
   ]
  },
  {
   "cell_type": "code",
   "execution_count": 10,
   "id": "a98094c6",
   "metadata": {},
   "outputs": [
    {
     "data": {
      "text/plain": [
       "[{'name': 'inet1k_spl_plstm_deit3-s-ft_1747149784.763',\n",
       "  'test/acc1': 0.8048799999999999},\n",
       " {'name': 'inet1k_spl_plstm_deit3-s-ft_1747174816.262', 'test/acc1': 0.80504},\n",
       " {'name': 'inet1k_spl_plstm_deit3-b-ft_1747176381.772',\n",
       "  'test/acc1': 0.8022199999999999},\n",
       " {'name': 'inet1k_spl_plstm_deit3-s-ft_1747207686.952', 'test/acc1': 0.75178}]"
      ]
     },
     "execution_count": 10,
     "metadata": {},
     "output_type": "execute_result"
    }
   ],
   "source": [
    "res_ft = [r for r in  res if \"ft\" in r['name']]\n",
    "res_ft"
   ]
  },
  {
   "cell_type": "code",
   "execution_count": 11,
   "id": "fd53e78f",
   "metadata": {},
   "outputs": [
    {
     "data": {
      "text/plain": [
       "[{'name': 'inet1k_ViT-T_abl_1747034007.794', 'test/acc1': 0.7466},\n",
       " {'name': 'inet1k_plstmPonly_abl_1747064696.219', 'test/acc1': 0.74864},\n",
       " {'name': 'inet1k_plstmNoPosEmb_abl_1747064684.377', 'test/acc1': 0.75224},\n",
       " {'name': 'inet1k_plstmDonly_abl_1747064683.819', 'test/acc1': 0.75138},\n",
       " {'name': 'inet1k_plstmConstSTM_abl_1747064749.486', 'test/acc1': 0.75102},\n",
       " {'name': 'inet1k_plstm_abl_1747064749.874', 'test/acc1': 0.75514}]"
      ]
     },
     "execution_count": 11,
     "metadata": {},
     "output_type": "execute_result"
    }
   ],
   "source": [
    "res_abl = [r for r in  res if \"abl\" in r['name']]\n",
    "res_abl"
   ]
  },
  {
   "cell_type": "code",
   "execution_count": null,
   "id": "69ae848d",
   "metadata": {},
   "outputs": [],
   "source": []
  }
 ],
 "metadata": {
  "kernelspec": {
   "display_name": "plstm",
   "language": "python",
   "name": "python3"
  },
  "language_info": {
   "codemirror_mode": {
    "name": "ipython",
    "version": 3
   },
   "file_extension": ".py",
   "mimetype": "text/x-python",
   "name": "python",
   "nbconvert_exporter": "python",
   "pygments_lexer": "ipython3",
   "version": "3.11.11"
  }
 },
 "nbformat": 4,
 "nbformat_minor": 5
}
